{
  "nbformat": 4,
  "nbformat_minor": 0,
  "metadata": {
    "colab": {
      "name": "aihwkit_installation.ipynb",
      "provenance": [],
      "collapsed_sections": []
    },
    "kernelspec": {
      "name": "python3",
      "display_name": "Python 3"
    },
    "language_info": {
      "name": "python"
    }
  },
  "cells": [
    {
      "cell_type": "markdown",
      "metadata": {
        "id": "vy0pL-IdQL4A"
      },
      "source": [
        "# Mount Drive"
      ]
    },
    {
      "cell_type": "code",
      "metadata": {
        "colab": {
          "base_uri": "https://localhost:8080/"
        },
        "id": "TPpBF-_NP-od",
        "outputId": "f072ec12-525e-4c0b-ab92-91a3d3a606f4"
      },
      "source": [
        "# mount google drive\n",
        "from google.colab import drive\n",
        "drive.mount('/content/gdrive')\n",
        "\n",
        "# note change to our project's google drive path\n",
        "%cd '/content/gdrive/MyDrive/ECSE_552_Deep_Learning'\n",
        "%ls"
      ],
      "execution_count": 1,
      "outputs": [
        {
          "output_type": "stream",
          "text": [
            "Mounted at /content/gdrive\n",
            "/content/gdrive/MyDrive/ECSE_552_Deep_Learning\n",
            "552_Ass3_.ipynb             H4.ipynb\n",
            "aihwkit_installation.ipynb  LSTM_Time_Series_Data_Prediction.ipynb\n",
            "ECSE_552_HW5.pdf            weather_test.csv\n",
            "ECSE552_Project_.ipynb      weather_train.csv\n"
          ],
          "name": "stdout"
        }
      ]
    },
    {
      "cell_type": "markdown",
      "metadata": {
        "id": "POUp4uR7Qxal"
      },
      "source": [
        "# Create Python Venv & Clone Aihwkit into Venv"
      ]
    },
    {
      "cell_type": "code",
      "metadata": {
        "colab": {
          "base_uri": "https://localhost:8080/"
        },
        "id": "0wD_c6ObRB-t",
        "outputId": "a52b59b5-6634-414e-adec-0e15e1b60945"
      },
      "source": [
        "# Creating python virtual env for aihwkit\n",
        "%%script bash\n",
        "apt-get install python3-venv\n",
        "python3 -m venv aihwkit_env\n",
        "cd aihwkit_env/\n",
        "source bin/activate\n",
        "git clone https://github.com/IBM/aihwkit.git"
      ],
      "execution_count": 2,
      "outputs": [
        {
          "output_type": "stream",
          "text": [
            "Reading package lists...\n",
            "Building dependency tree...\n",
            "Reading state information...\n",
            "The following additional packages will be installed:\n",
            "  python-pip-whl python3.6-venv\n",
            "The following NEW packages will be installed:\n",
            "  python-pip-whl python3-venv python3.6-venv\n",
            "0 upgraded, 3 newly installed, 0 to remove and 30 not upgraded.\n",
            "Need to get 1,660 kB of archives.\n",
            "After this operation, 1,902 kB of additional disk space will be used.\n",
            "Get:1 http://archive.ubuntu.com/ubuntu bionic-updates/universe amd64 python-pip-whl all 9.0.1-2.3~ubuntu1.18.04.4 [1,653 kB]\n",
            "Get:2 http://archive.ubuntu.com/ubuntu bionic-updates/universe amd64 python3.6-venv amd64 3.6.9-1~18.04ubuntu1.4 [6,188 B]\n",
            "Get:3 http://archive.ubuntu.com/ubuntu bionic-updates/universe amd64 python3-venv amd64 3.6.7-1~18.04 [1,208 B]\n",
            "Fetched 1,660 kB in 1s (1,522 kB/s)\n",
            "Selecting previously unselected package python-pip-whl.\r\n",
            "(Reading database ... \r(Reading database ... 5%\r(Reading database ... 10%\r(Reading database ... 15%\r(Reading database ... 20%\r(Reading database ... 25%\r(Reading database ... 30%\r(Reading database ... 35%\r(Reading database ... 40%\r(Reading database ... 45%\r(Reading database ... 50%\r(Reading database ... 55%\r(Reading database ... 60%\r(Reading database ... 65%\r(Reading database ... 70%\r(Reading database ... 75%\r(Reading database ... 80%\r(Reading database ... 85%\r(Reading database ... 90%\r(Reading database ... 95%\r(Reading database ... 100%\r(Reading database ... 160980 files and directories currently installed.)\r\n",
            "Preparing to unpack .../python-pip-whl_9.0.1-2.3~ubuntu1.18.04.4_all.deb ...\r\n",
            "Unpacking python-pip-whl (9.0.1-2.3~ubuntu1.18.04.4) ...\r\n",
            "Selecting previously unselected package python3.6-venv.\r\n",
            "Preparing to unpack .../python3.6-venv_3.6.9-1~18.04ubuntu1.4_amd64.deb ...\r\n",
            "Unpacking python3.6-venv (3.6.9-1~18.04ubuntu1.4) ...\r\n",
            "Selecting previously unselected package python3-venv.\r\n",
            "Preparing to unpack .../python3-venv_3.6.7-1~18.04_amd64.deb ...\r\n",
            "Unpacking python3-venv (3.6.7-1~18.04) ...\r\n",
            "Setting up python-pip-whl (9.0.1-2.3~ubuntu1.18.04.4) ...\r\n",
            "Setting up python3.6-venv (3.6.9-1~18.04ubuntu1.4) ...\r\n",
            "Setting up python3-venv (3.6.7-1~18.04) ...\r\n",
            "Processing triggers for man-db (2.8.3-2ubuntu0.1) ...\r\n"
          ],
          "name": "stdout"
        },
        {
          "output_type": "stream",
          "text": [
            "Error: Command '['/content/gdrive/MyDrive/ECSE_552_Deep_Learning/aihwkit_env/bin/python3', '-Im', 'ensurepip', '--upgrade', '--default-pip']' returned non-zero exit status 1.\n",
            "bash: line 4: bin/activate: No such file or directory\n",
            "Cloning into 'aihwkit'...\n",
            "Checking out files:  47% (161/337)   \rChecking out files:  48% (162/337)   \rChecking out files:  49% (166/337)   \rChecking out files:  50% (169/337)   \rChecking out files:  51% (172/337)   \rChecking out files:  52% (176/337)   \rChecking out files:  53% (179/337)   \rChecking out files:  54% (182/337)   \rChecking out files:  55% (186/337)   \rChecking out files:  56% (189/337)   \rChecking out files:  57% (193/337)   \rChecking out files:  58% (196/337)   \rChecking out files:  59% (199/337)   \rChecking out files:  60% (203/337)   \rChecking out files:  61% (206/337)   \rChecking out files:  62% (209/337)   \rChecking out files:  63% (213/337)   \rChecking out files:  64% (216/337)   \rChecking out files:  65% (220/337)   \rChecking out files:  66% (223/337)   \rChecking out files:  67% (226/337)   \rChecking out files:  68% (230/337)   \rChecking out files:  69% (233/337)   \rChecking out files:  70% (236/337)   \rChecking out files:  71% (240/337)   \rChecking out files:  72% (243/337)   \rChecking out files:  73% (247/337)   \rChecking out files:  74% (250/337)   \rChecking out files:  75% (253/337)   \rChecking out files:  76% (257/337)   \rChecking out files:  77% (260/337)   \rChecking out files:  78% (263/337)   \rChecking out files:  79% (267/337)   \rChecking out files:  80% (270/337)   \rChecking out files:  81% (273/337)   \rChecking out files:  82% (277/337)   \rChecking out files:  83% (280/337)   \rChecking out files:  84% (284/337)   \rChecking out files:  85% (287/337)   \rChecking out files:  86% (290/337)   \rChecking out files:  87% (294/337)   \rChecking out files:  88% (297/337)   \rChecking out files:  89% (300/337)   \rChecking out files:  90% (304/337)   \rChecking out files:  91% (307/337)   \rChecking out files:  92% (311/337)   \rChecking out files:  93% (314/337)   \rChecking out files:  94% (317/337)   \rChecking out files:  95% (321/337)   \rChecking out files:  96% (324/337)   \rChecking out files:  97% (327/337)   \rChecking out files:  98% (331/337)   \rChecking out files:  99% (334/337)   \rChecking out files: 100% (337/337)   \rChecking out files: 100% (337/337), done.\n"
          ],
          "name": "stderr"
        }
      ]
    },
    {
      "cell_type": "markdown",
      "metadata": {
        "id": "S-gmTOcxQQdt"
      },
      "source": [
        "# Install linux & Python Build Libraries in Venv"
      ]
    },
    {
      "cell_type": "code",
      "metadata": {
        "colab": {
          "base_uri": "https://localhost:8080/"
        },
        "id": "cvUcmCqgQg1W",
        "outputId": "7d79fccd-46ed-44c1-8c7b-300ea56d75ef"
      },
      "source": [
        "# install the required libaries for building aihwkit\n",
        "%%script bash\n",
        "cd aihwkit_env/aihwkit\n",
        "pwd\n",
        "sudo apt-get install ninja-build\n",
        "sudo apt-get install libopenblas-dev\n",
        "pip install pybind11 scikit-build\n",
        "pip install cmake --upgrade\n"
      ],
      "execution_count": 3,
      "outputs": [
        {
          "output_type": "stream",
          "text": [
            "/content/gdrive/MyDrive/ECSE_552_Deep_Learning/aihwkit_env/aihwkit\n",
            "Reading package lists...\n",
            "Building dependency tree...\n",
            "Reading state information...\n",
            "The following NEW packages will be installed:\n",
            "  ninja-build\n",
            "0 upgraded, 1 newly installed, 0 to remove and 30 not upgraded.\n",
            "Need to get 93.3 kB of archives.\n",
            "After this operation, 296 kB of additional disk space will be used.\n",
            "Get:1 http://archive.ubuntu.com/ubuntu bionic/universe amd64 ninja-build amd64 1.8.2-1 [93.3 kB]\n",
            "Fetched 93.3 kB in 1s (177 kB/s)\n",
            "Selecting previously unselected package ninja-build.\r\n",
            "(Reading database ... \r(Reading database ... 5%\r(Reading database ... 10%\r(Reading database ... 15%\r(Reading database ... 20%\r(Reading database ... 25%\r(Reading database ... 30%\r(Reading database ... 35%\r(Reading database ... 40%\r(Reading database ... 45%\r(Reading database ... 50%\r(Reading database ... 55%\r(Reading database ... 60%\r(Reading database ... 65%\r(Reading database ... 70%\r(Reading database ... 75%\r(Reading database ... 80%\r(Reading database ... 85%\r(Reading database ... 90%\r(Reading database ... 95%\r(Reading database ... 100%\r(Reading database ... 161018 files and directories currently installed.)\r\n",
            "Preparing to unpack .../ninja-build_1.8.2-1_amd64.deb ...\r\n",
            "Unpacking ninja-build (1.8.2-1) ...\r\n",
            "Setting up ninja-build (1.8.2-1) ...\r\n",
            "Processing triggers for man-db (2.8.3-2ubuntu0.1) ...\r\n",
            "Reading package lists...\n",
            "Building dependency tree...\n",
            "Reading state information...\n",
            "libopenblas-dev is already the newest version (0.2.20+ds-4).\n",
            "0 upgraded, 0 newly installed, 0 to remove and 30 not upgraded.\n",
            "Collecting pybind11\n",
            "  Downloading https://files.pythonhosted.org/packages/8d/43/7339dbabbc2793718d59703aace4166f53c29ee1c202f6ff5bf8a26c4d91/pybind11-2.6.2-py2.py3-none-any.whl (191kB)\n",
            "Collecting scikit-build\n",
            "  Downloading https://files.pythonhosted.org/packages/78/c9/7c2c7397ea64e36ebb292446896edcdecbb8c1aa6b9a1a32f6f67984c3df/scikit_build-0.11.1-py2.py3-none-any.whl (72kB)\n",
            "Collecting distro\n",
            "  Downloading https://files.pythonhosted.org/packages/25/b7/b3c4270a11414cb22c6352ebc7a83aaa3712043be29daa05018fd5a5c956/distro-1.5.0-py2.py3-none-any.whl\n",
            "Requirement already satisfied: setuptools>=28.0.0; python_version >= \"3\" in /usr/local/lib/python3.7/dist-packages (from scikit-build) (54.2.0)\n",
            "Requirement already satisfied: wheel>=0.29.0 in /usr/local/lib/python3.7/dist-packages (from scikit-build) (0.36.2)\n",
            "Requirement already satisfied: packaging in /usr/local/lib/python3.7/dist-packages (from scikit-build) (20.9)\n",
            "Requirement already satisfied: pyparsing>=2.0.2 in /usr/local/lib/python3.7/dist-packages (from packaging->scikit-build) (2.4.7)\n",
            "Installing collected packages: pybind11, distro, scikit-build\n",
            "Successfully installed distro-1.5.0 pybind11-2.6.2 scikit-build-0.11.1\n",
            "Collecting cmake\n",
            "  Downloading https://files.pythonhosted.org/packages/bb/c5/9a07d851bf8356dba2871f141f3e5e8d390995687be20316041a1e564d4c/cmake-3.18.4.post1-py3-none-manylinux1_x86_64.whl (17.7MB)\n",
            "Installing collected packages: cmake\n",
            "  Found existing installation: cmake 3.12.0\n",
            "    Uninstalling cmake-3.12.0:\n",
            "      Successfully uninstalled cmake-3.12.0\n",
            "Successfully installed cmake-3.18.4.post1\n"
          ],
          "name": "stdout"
        },
        {
          "output_type": "stream",
          "text": [
            "debconf: unable to initialize frontend: Dialog\n",
            "debconf: (No usable dialog-like program is installed, so the dialog based frontend cannot be used. at /usr/share/perl5/Debconf/FrontEnd/Dialog.pm line 76, <> line 1.)\n",
            "debconf: falling back to frontend: Readline\n",
            "debconf: unable to initialize frontend: Readline\n",
            "debconf: (This frontend requires a controlling tty.)\n",
            "debconf: falling back to frontend: Teletype\n",
            "dpkg-preconfigure: unable to re-open stdin: \n"
          ],
          "name": "stderr"
        }
      ]
    },
    {
      "cell_type": "markdown",
      "metadata": {
        "id": "c4anMxLzSGou"
      },
      "source": [
        "# Building Aihwkit"
      ]
    },
    {
      "cell_type": "code",
      "metadata": {
        "colab": {
          "base_uri": "https://localhost:8080/"
        },
        "id": "W1xtmOv3SUr-",
        "outputId": "26fba46a-8e72-442d-c10e-be6684c1fee5"
      },
      "source": [
        "# building aihwkit in the local google drive folder\n",
        "%%script bash\n",
        "cd aihwkit_env/aihwkit/\n",
        "make clean\n",
        "python3 setup.py build_ext --inplace -DUSE_CUDA=ON -DRPU_CUDA_ARCHITECTURES=\"60;70\""
      ],
      "execution_count": 4,
      "outputs": [
        {
          "output_type": "stream",
          "text": [
            "python setup.py clean\n",
            "running clean\n",
            "rm -rf _skbuild\n",
            "rm -f src/aihwkit/simulator/rpu_base.*.so\n",
            "Not searching for unused variables given on the command line.\n",
            "-- The C compiler identification is GNU 7.5.0\n",
            "-- Detecting C compiler ABI info\n",
            "-- Detecting C compiler ABI info - done\n",
            "-- Check for working C compiler: /usr/bin/cc - skipped\n",
            "-- Detecting C compile features\n",
            "-- Detecting C compile features - done\n",
            "-- The CXX compiler identification is GNU 7.5.0\n",
            "-- Detecting CXX compiler ABI info\n",
            "-- Detecting CXX compiler ABI info - done\n",
            "-- Check for working CXX compiler: /usr/bin/c++ - skipped\n",
            "-- Detecting CXX compile features\n",
            "-- Detecting CXX compile features - done\n",
            "-- Configuring done\n",
            "-- Generating done\n",
            "-- Build files have been written to: /content/gdrive/My Drive/ECSE_552_Deep_Learning/aihwkit_env/aihwkit/_cmake_test_compile/build\n",
            "-- The C compiler identification is GNU 7.5.0\n",
            "-- The CXX compiler identification is GNU 7.5.0\n",
            "-- Detecting C compiler ABI info\n",
            "-- Detecting C compiler ABI info - done\n",
            "-- Check for working C compiler: /usr/bin/cc - skipped\n",
            "-- Detecting C compile features\n",
            "-- Detecting C compile features - done\n",
            "-- Detecting CXX compiler ABI info\n",
            "-- Detecting CXX compiler ABI info - done\n",
            "-- Check for working CXX compiler: /usr/bin/c++ - skipped\n",
            "-- Detecting CXX compile features\n",
            "-- Detecting CXX compile features - done\n",
            "-- Invoking cmake through scikit-build\n",
            "-- The BLAS backend of choice:OpenBLAS\n",
            "-- Found OpenBLAS libraries: /usr/lib/x86_64-linux-gnu/libopenblas.so\n",
            "-- Found OpenBLAS include: /usr/include/x86_64-linux-gnu\n",
            "-- Found PythonLibs: /usr/lib/x86_64-linux-gnu/libpython3.7m.so (found version \"3.7.10\") \n",
            "-- Found PythonInterp: /usr/bin/python3 (found version \"3.7.10\") \n",
            "-- Found PythonLibs: /usr/lib/x86_64-linux-gnu/libpython3.7m.so\n",
            "-- Performing Test HAS_FLTO\n",
            "-- Performing Test HAS_FLTO - Success\n",
            "-- Found pybind11: /usr/local/lib/python3.7/dist-packages/pybind11/include (found version \"2.6.2\" )\n",
            "-- Found Python: /usr/local/bin/python (found version \"3.7.10\") found components: Interpreter \n",
            "-- Found Torch: /usr/local/lib/python3.7/dist-packages/torch/include;/usr/local/lib/python3.7/dist-packages/torch/include/torch/csrc/api/include  \n",
            "-- The CUDA compiler identification is NVIDIA 11.0.221\n",
            "-- Detecting CUDA compiler ABI info\n",
            "-- Detecting CUDA compiler ABI info - done\n",
            "-- Check for working CUDA compiler: /usr/local/cuda/bin/nvcc - skipped\n",
            "-- Detecting CUDA compile features\n",
            "-- Detecting CUDA compile features - done\n",
            "-- Found CUDAToolkit: /usr/local/cuda/include (found version \"11.0.221\") \n",
            "-- Looking for pthread.h\n",
            "-- Looking for pthread.h - found\n",
            "-- Performing Test CMAKE_HAVE_LIBC_PTHREAD\n",
            "-- Performing Test CMAKE_HAVE_LIBC_PTHREAD - Success\n",
            "-- Found Threads: TRUE  \n",
            "-- Configuring done\n",
            "-- Generating done\n",
            "-- Build files have been written to: /content/gdrive/My Drive/ECSE_552_Deep_Learning/aihwkit_env/aihwkit/_skbuild/linux-x86_64-3.7/cmake-build\n",
            "[1/57] Building CUDA object CMakeFiles/RPU_GPU.dir/src/rpucuda/cuda/cuda_math_util.cu.o\n",
            "[2/57] Building CUDA object CMakeFiles/RPU_GPU.dir/src/rpucuda/cuda/cuda_util.cu.o\n",
            "[3/57] Building CUDA object CMakeFiles/RPU_GPU.dir/src/rpucuda/cuda/io_manager.cu.o\n",
            "[4/57] Building CUDA object CMakeFiles/RPU_GPU.dir/src/rpucuda/cuda/maximizer.cu.o\n",
            "[5/57] Building CUDA object CMakeFiles/RPU_GPU.dir/src/rpucuda/cuda/pulsed_weight_updater.cu.o\n",
            "[6/57] Building CUDA object CMakeFiles/RPU_GPU.dir/src/rpucuda/cuda/rpucuda.cu.o\n",
            "[7/57] Building CUDA object CMakeFiles/RPU_GPU.dir/src/rpucuda/cuda/noise_manager.cu.o\n",
            "[8/57] Building CUDA object CMakeFiles/RPU_GPU.dir/src/rpucuda/cuda/rpucuda_difference_device.cu.o\n",
            "[9/57] Building CUDA object CMakeFiles/RPU_GPU.dir/src/rpucuda/cuda/rpucuda_expstep_device.cu.o\n",
            "[10/57] Building CUDA object CMakeFiles/RPU_GPU.dir/src/rpucuda/cuda/bit_line_maker.cu.o\n",
            "[11/57] Building CUDA object CMakeFiles/RPU_GPU.dir/src/rpucuda/cuda/rpucuda_mixedprec_device.cu.o\n",
            "[12/57] Building CUDA object CMakeFiles/RPU_GPU.dir/src/rpucuda/cuda/rpucuda_mixedprec_device_base.cu.o\n",
            "[13/57] Building CUDA object CMakeFiles/RPU_GPU.dir/src/rpucuda/cuda/rpucuda_constantstep_device.cu.o\n",
            "[14/57] Building CUDA object CMakeFiles/RPU_GPU.dir/src/rpucuda/cuda/rpucuda_pulsed.cu.o\n",
            "[15/57] Building CUDA object CMakeFiles/RPU_GPU.dir/src/rpucuda/cuda/rpucuda_pulsed_device.cu.o\n",
            "[16/57] Building CUDA object CMakeFiles/RPU_GPU.dir/src/rpucuda/cuda/rpucuda_simple_device.cu.o\n",
            "[17/57] Building CUDA object CMakeFiles/RPU_GPU.dir/src/rpucuda/cuda/rpucuda_linearstep_device.cu.o\n",
            "[18/57] Building CUDA object CMakeFiles/RPU_GPU.dir/src/rpucuda/cuda/rpucuda_transfer_device.cu.o\n",
            "[19/57] Building CUDA object CMakeFiles/RPU_GPU.dir/src/rpucuda/cuda/rpucuda_vector_device.cu.o\n",
            "[20/57] Building CUDA object CMakeFiles/RPU_GPU.dir/src/rpucuda/cuda/rpucuda_powstep_device.cu.o\n",
            "[21/57] Building CUDA object CMakeFiles/RPU_GPU.dir/src/rpucuda/cuda/test_helper.cu.o\n",
            "[22/57] Building CUDA object CMakeFiles/RPU_GPU.dir/src/rpucuda/cuda/weight_clipper_cuda.cu.o\n",
            "[23/57] Building CUDA object CMakeFiles/RPU_GPU.dir/src/rpucuda/cuda/update_management_helper.cu.o\n",
            "[24/57] Building CXX object CMakeFiles/RPU_CPU.dir/src/rpucuda/dense_bit_line_maker.cpp.o\n",
            "[25/57] Building CXX object CMakeFiles/RPU_CPU.dir/src/rpucuda/math_util.cpp.o\n",
            "[26/57] Building CUDA object CMakeFiles/RPU_GPU.dir/src/rpucuda/cuda/weight_drifter_cuda.cu.o\n",
            "[27/57] Building CXX object CMakeFiles/RPU_CPU.dir/src/rpucuda/rng.cpp.o\n",
            "[28/57] Building CUDA object CMakeFiles/RPU_GPU.dir/src/rpucuda/cuda/weight_modifier_cuda.cu.o\n",
            "[29/57] Building CXX object CMakeFiles/RPU_CPU.dir/src/rpucuda/rpu_constantstep_device.cpp.o\n",
            "[30/57] Building CXX object CMakeFiles/RPU_CPU.dir/src/rpucuda/rpu.cpp.o\n",
            "[31/57] Building CXX object CMakeFiles/RPU_CPU.dir/src/rpucuda/rpu_difference_device.cpp.o\n",
            "[32/57] Building CXX object CMakeFiles/RPU_CPU.dir/src/rpucuda/rpu_expstep_device.cpp.o\n",
            "[33/57] Building CXX object CMakeFiles/RPU_CPU.dir/src/rpucuda/rpu_forward_backward_pass.cpp.o\n",
            "[34/57] Building CXX object CMakeFiles/RPU_CPU.dir/src/rpucuda/rpu_linearstep_device.cpp.o\n",
            "[35/57] Building CXX object CMakeFiles/RPU_CPU.dir/src/rpucuda/rpu_mixedprec_device.cpp.o\n",
            "[36/57] Building CXX object CMakeFiles/RPU_CPU.dir/src/rpucuda/rpu_mixedprec_device_base.cpp.o\n",
            "[37/57] Building CXX object CMakeFiles/RPU_CPU.dir/src/rpucuda/rpu_powstep_device.cpp.o\n",
            "[38/57] Building CXX object CMakeFiles/RPU_CPU.dir/src/rpucuda/rpu_pulsed.cpp.o\n",
            "[39/57] Building CXX object CMakeFiles/RPU_CPU.dir/src/rpucuda/rpu_pulsed_meta_parameter.cpp.o\n",
            "[40/57] Building CXX object CMakeFiles/RPU_CPU.dir/src/rpucuda/rpu_pulsed_device.cpp.o\n",
            "[41/57] Building CXX object CMakeFiles/RPU_CPU.dir/src/rpucuda/rpu_simple_device.cpp.o\n",
            "[42/57] Building CXX object CMakeFiles/RPU_CPU.dir/src/rpucuda/rpu_weight_updater.cpp.o\n",
            "[43/57] Building CXX object CMakeFiles/RPU_CPU.dir/src/rpucuda/rpu_transfer_device.cpp.o\n",
            "[44/57] Building CXX object CMakeFiles/RPU_CPU.dir/src/rpucuda/rpu_vector_device.cpp.o\n",
            "[45/57] Building CXX object CMakeFiles/RPU_CPU.dir/src/rpucuda/weight_clipper.cpp.o\n",
            "[46/57] Building CXX object CMakeFiles/RPU_CPU.dir/src/rpucuda/weight_drifter.cpp.o\n",
            "[47/57] Building CXX object CMakeFiles/RPU_CPU.dir/src/rpucuda/sparse_bit_line_maker.cpp.o\n",
            "[48/57] Building CXX object CMakeFiles/RPU_CPU.dir/src/rpucuda/weight_modifier.cpp.o\n",
            "[49/57] Linking CXX static library libRPU_CPU.a\n",
            "[50/57] Linking CXX static library CMakeFiles/RPU_GPU.dir/cmake_device_link.o\n",
            "[51/57] Linking CXX static library libRPU_GPU.a\n",
            "[52/57] Building CXX object src/aihwkit/simulator/CMakeFiles/rpu_base.dir/rpu_base_src/rpu_base.cpp.o\n",
            "[53/57] Building CXX object src/aihwkit/simulator/CMakeFiles/rpu_base.dir/rpu_base_src/rpu_base_devices.cpp.o\n",
            "[54/57] Building CXX object src/aihwkit/simulator/CMakeFiles/rpu_base.dir/rpu_base_src/rpu_base_tiles.cpp.o\n",
            "[55/57] Building CXX object src/aihwkit/simulator/CMakeFiles/rpu_base.dir/rpu_base_src/rpu_base_tiles_cuda.cpp.o\n",
            "[56/57] Linking CXX shared module src/aihwkit/simulator/rpu_base.cpython-37m-x86_64-linux-gnu.so\n",
            "[56/57] Install the project...\n",
            "-- Install configuration: \"Release\"\n",
            "-- Installing: /content/gdrive/My Drive/ECSE_552_Deep_Learning/aihwkit_env/aihwkit/_skbuild/linux-x86_64-3.7/cmake-install/src/aihwkit/simulator/rpu_base.cpython-37m-x86_64-linux-gnu.so\n",
            "-- Set runtime path of \"/content/gdrive/My Drive/ECSE_552_Deep_Learning/aihwkit_env/aihwkit/_skbuild/linux-x86_64-3.7/cmake-install/src/aihwkit/simulator/rpu_base.cpython-37m-x86_64-linux-gnu.so\" to \"$ORIGIN\"\n",
            "\n",
            "\n",
            "--------------------------------------------------------------------------------\n",
            "-- Trying \"Ninja\" generator\n",
            "--------------------------------\n",
            "---------------------------\n",
            "----------------------\n",
            "-----------------\n",
            "------------\n",
            "-------\n",
            "--\n",
            "--\n",
            "-------\n",
            "------------\n",
            "-----------------\n",
            "----------------------\n",
            "---------------------------\n",
            "--------------------------------\n",
            "-- Trying \"Ninja\" generator - success\n",
            "--------------------------------------------------------------------------------\n",
            "\n",
            "Configuring Project\n",
            "  Working directory:\n",
            "    /content/gdrive/My Drive/ECSE_552_Deep_Learning/aihwkit_env/aihwkit/_skbuild/linux-x86_64-3.7/cmake-build\n",
            "  Command:\n",
            "    cmake '/content/gdrive/My Drive/ECSE_552_Deep_Learning/aihwkit_env/aihwkit' -G Ninja '-DCMAKE_INSTALL_PREFIX:PATH=/content/gdrive/My Drive/ECSE_552_Deep_Learning/aihwkit_env/aihwkit/_skbuild/linux-x86_64-3.7/cmake-install' -DPYTHON_EXECUTABLE:FILEPATH=/usr/bin/python3 -DPYTHON_VERSION_STRING:STRING=3.7.10 -DPYTHON_INCLUDE_DIR:PATH=/usr/include/python3.7m -DPYTHON_LIBRARY:FILEPATH=/usr/lib/x86_64-linux-gnu/libpython3.7m.so -DSKBUILD:BOOL=TRUE -DCMAKE_MODULE_PATH:PATH=/usr/local/lib/python3.7/dist-packages/skbuild/resources/cmake -DUSE_CUDA=ON '-DRPU_CUDA_ARCHITECTURES=60;70' -DCMAKE_BUILD_TYPE:STRING=Release\n",
            "\n",
            "copying _skbuild/linux-x86_64-3.7/cmake-install/src/aihwkit/simulator/rpu_base.cpython-37m-x86_64-linux-gnu.so -> src/aihwkit/simulator/rpu_base.cpython-37m-x86_64-linux-gnu.so\n",
            "\n",
            "running build_ext\n"
          ],
          "name": "stdout"
        }
      ]
    }
  ]
}